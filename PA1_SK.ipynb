{
 "cells": [
  {
   "cell_type": "markdown",
   "id": "56c368ed",
   "metadata": {},
   "source": [
    "* Shay Korhorn\n",
    "* Assignment 1\n",
    "* Version 1\n",
    "* Fall 2023"
   ]
  },
  {
   "cell_type": "markdown",
   "id": "2f7c1dda",
   "metadata": {},
   "source": [
    "# Shay Korhorn"
   ]
  },
  {
   "cell_type": "markdown",
   "id": "61a61b24",
   "metadata": {},
   "source": [
    "### I am a sophomore at bellarmine, I am 19 years old, and I am also on the wrestling team. I am very interested in learning and understanding coding."
   ]
  },
  {
   "cell_type": "markdown",
   "id": "73486291",
   "metadata": {},
   "source": [
    "* Programming Assignments\n",
    "* Quizzes\n",
    "* Attendance/In-class completed notebook submission\n",
    "* Mid-Term Exam (2)\n",
    "* Project (2)"
   ]
  },
  {
   "cell_type": "markdown",
   "id": "e77325f5",
   "metadata": {},
   "source": [
    "1. Module 0 - Course Introduction\n",
    "2. Module 1 - Variables and Simple Data Types\n",
    "3. Module 2 - Introducing Lists, Tuples\n",
    "4. Module 3 - if Statements\n",
    "5. Module 4 - Dictionaries\n",
    "6. Module 5 - While Loops\n",
    "7. Module 6 - Functions\n",
    "8. Module 7 - Classes\n",
    "9. Module 8 - Numpy"
   ]
  },
  {
   "cell_type": "markdown",
   "id": "14d2c8d8",
   "metadata": {},
   "source": [
    "**Python**"
   ]
  },
  {
   "cell_type": "markdown",
   "id": "db9b8315",
   "metadata": {},
   "source": [
    "*Jupyter*"
   ]
  },
  {
   "cell_type": "markdown",
   "id": "494ed93f",
   "metadata": {},
   "source": [
    "`Programming is fun.`"
   ]
  },
  {
   "attachments": {},
   "cell_type": "markdown",
   "id": "1d2bbdf6",
   "metadata": {},
   "source": [
    "<a href=\"https://github.com/shaykorhorn\">Git Hub Profile</a>"
   ]
  },
  {
   "cell_type": "code",
   "execution_count": null,
   "id": "a1deaea3",
   "metadata": {},
   "outputs": [],
   "source": []
  }
 ],
 "metadata": {
  "kernelspec": {
   "display_name": "Python 3 (ipykernel)",
   "language": "python",
   "name": "python3"
  },
  "language_info": {
   "codemirror_mode": {
    "name": "ipython",
    "version": 3
   },
   "file_extension": ".py",
   "mimetype": "text/x-python",
   "name": "python",
   "nbconvert_exporter": "python",
   "pygments_lexer": "ipython3",
   "version": "3.11.4"
  }
 },
 "nbformat": 4,
 "nbformat_minor": 5
}
